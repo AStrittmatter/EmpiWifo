{
 "cells": [
  {
   "cell_type": "markdown",
   "metadata": {},
   "source": [
    "# Empirische Wirtschaftsforschung: Problem Set 1\n",
    "\n",
    "Praktischer Teil. In den späten 1980er Jahren wurde in Tennessee ein Experiment durchgeführt, in dem für 4 Jahre der Effekt der Klassengrösse auf den Lernerfolg von Schülern evaluiert wurde (das sogenannte Student Teacher Achievement Ratio Experiment\n",
    "oder STAR Experiment). Das Experiment verglich die Leistungen von Schülern, die in Klassen von verschiedener Grösse registriert waren. In jeder der teilnehmenden Schulen gab es Klassen von verschiedener Grösse. Innerhalb jeder teilnehmenden Schule wurde nicht nur die Klassengrösse zufällig bestimmt, sondern auch die Kinder zufällig den Klassen zugeteilt. Jedes Jahr mussten die Kinder standardisierte Tests ablegen (sogenanntes SAT). Die im Datensatz classsize.RData enthaltenen Variablen sind:\n",
    "\n",
    "* classize - Grösse der Klasse, in der das Kind registriert ist\n",
    "* tscorek - Testergebnis des Kindes, gemessen in Punkten\n",
    "* boy - 1 wenn das Kind ein Junge ist; 0 andernfalls\n",
    "* freelunk - 1 wenn das Kind ein kostenloses Mittagsessen erhält (Proxy für arme Familienverhälntnisse); 0 andernfalls\n",
    "* totexpk - Arbeitserfahrung des Lehrers, gemessen in Jahren\n",
    "* schidkn - Code der Schule, in dem das Kind ist.\n",
    "\n",
    "Die ersten Übungen sollen helfen, mit den gängigsten R Befehlen vertraut zu werden."
   ]
  },
  {
   "cell_type": "markdown",
   "metadata": {},
   "source": [
    "## Daten vorbereiten"
   ]
  },
  {
   "cell_type": "code",
   "execution_count": null,
   "metadata": {},
   "outputs": [],
   "source": [
    "# Packages laden\n",
    "library(dplyr)\n",
    "library(ggplot2)\n",
    "library(Hmisc)"
   ]
  },
  {
   "cell_type": "code",
   "execution_count": null,
   "metadata": {},
   "outputs": [],
   "source": [
    "# Daten in den Workspace laden \n",
    "load(\"Exercise 1/classize.RData\")"
   ]
  },
  {
   "cell_type": "markdown",
   "metadata": {},
   "source": [
    "## Grundlagen in R"
   ]
  },
  {
   "cell_type": "code",
   "execution_count": null,
   "metadata": {},
   "outputs": [],
   "source": [
    "# Data Manipulation mit R:\n",
    "# Spalten aus einem Dataframe wählen:\n",
    "data$id       # Spalten mit Namen auswählen\n",
    "data[, 1]     # Mit Spaltennummer (data[Zeile, Spalten])\n",
    "data[, \"id\"]  # mit Namen\n",
    "data[, 1:4]   #\n",
    "data[, c(\"id\", \"totexpk\")]\n",
    "\n",
    "select(data, id) # dplyr(data, Spalten)\n",
    "\n",
    "# Zeilen aus einem Dataframe wählen:\n",
    "data[1,]\n",
    "\n",
    "# Eine Variable und eine Beobachtung aus einem Dataframe wählen:\n",
    "data[1,1]\n",
    "\n",
    "# Einen neuen Objekt erstellen\n",
    "col <- data[,1] \n",
    "\n",
    "# Neue Variabel erstellen\n",
    "data$new <- data$tscorek/100\n",
    "mutate(data, new = tscorek/100) #dplyr"
   ]
  }
 ],
 "metadata": {
  "kernelspec": {
   "display_name": "R",
   "language": "R",
   "name": "ir"
  },
  "language_info": {
   "codemirror_mode": "r",
   "file_extension": ".r",
   "mimetype": "text/x-r-source",
   "name": "R",
   "pygments_lexer": "r",
   "version": "3.5.1"
  }
 },
 "nbformat": 4,
 "nbformat_minor": 2
}
