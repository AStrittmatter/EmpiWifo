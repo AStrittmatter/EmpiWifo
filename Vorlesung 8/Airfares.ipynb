{
 "cells": [
  {
   "cell_type": "markdown",
   "metadata": {},
   "source": [
    "# **Empirische Wirtschaftsforschung**"
   ]
  },
  {
   "cell_type": "markdown",
   "metadata": {},
   "source": [
    "# Anwendungsbeispiel Flugpreise"
   ]
  },
  {
   "cell_type": "markdown",
   "metadata": {},
   "source": [
    "**Author:** [Anthony Strittmatter](http://www.anthonystrittmatter.com)"
   ]
  },
  {
   "cell_type": "markdown",
   "metadata": {},
   "source": [
    "Ihnen steht ein Datensatz mit 3,447 Preisen für unterschiedliche Flüge aus den Jahren 1997, 1998 und 1999 zur Verfügung. \n",
    "\n",
    "**Variablenbeschreibung:**\n",
    "- *lfare*: log(Durchschnittspreis, one-way)\n",
    "- *mktshr*: Marktanteils des grössten Anbieters auf der Flugstrecke\n",
    "- *dist*: Distanz, in Meilen\n",
    "- *passen*: Durchschnittliche Anzahl der Passagiere pro Tag\n",
    "- *y97*: Dummy für 1997\n",
    "- *y99*: Dummy für 1999\n"
   ]
  },
  {
   "cell_type": "markdown",
   "metadata": {},
   "source": [
    "## Laden der Daten"
   ]
  },
  {
   "cell_type": "code",
   "execution_count": 1,
   "metadata": {},
   "outputs": [
    {
     "name": "stdout",
     "output_type": "stream",
     "text": [
      "[1] \"Data is loaded.\"\n"
     ]
    }
   ],
   "source": [
    "############## Laden der Daten ##############\n",
    "\n",
    "data <- read.csv(\"airfares.csv\",header=TRUE, sep=\",\")\n",
    "\n",
    "#lfare <- c(\"lfare\")\n",
    "#restringiert <- c(\"mktshr\", \"dist\", \"passen\")\n",
    "#unrestringiert <- c(\"mktshr\", \"dist\", \"passen\", \"y97\", \"y99\")\n",
    "\n",
    "print('Data is loaded.')\n",
    "\n",
    "##############################################"
   ]
  },
  {
   "cell_type": "markdown",
   "metadata": {},
   "source": [
    "# Deskriptive Statistiken"
   ]
  },
  {
   "cell_type": "markdown",
   "metadata": {},
   "source": [
    "Zunächst überprüfen Sie ob der Datensatz vollständig ist und ob es irgendwelche Auffälligkeiten in den Daten gibt."
   ]
  },
  {
   "cell_type": "code",
   "execution_count": 3,
   "metadata": {},
   "outputs": [
    {
     "data": {
      "text/html": [
       "<table>\n",
       "<thead><tr><th></th><th scope=col>vars</th><th scope=col>n</th><th scope=col>mean</th><th scope=col>sd</th><th scope=col>median</th><th scope=col>trimmed</th><th scope=col>mad</th><th scope=col>min</th><th scope=col>max</th><th scope=col>range</th><th scope=col>skew</th><th scope=col>kurtosis</th><th scope=col>se</th></tr></thead>\n",
       "<tbody>\n",
       "\t<tr><th scope=row>lfare</th><td>1           </td><td>3447        </td><td>  5.0765730 </td><td>  0.4410853 </td><td>  5.105946  </td><td>  5.0943686 </td><td>  0.4598357 </td><td> 3.610918   </td><td>   6.198479 </td><td>   2.587561 </td><td>-0.3079329  </td><td>-0.439501661</td><td> 0.007512802</td></tr>\n",
       "\t<tr><th scope=row>dist</th><td>2           </td><td>3447        </td><td>989.7449956 </td><td>611.8536992 </td><td>861.000000  </td><td>919.5900689 </td><td>558.9402000 </td><td>95.000000   </td><td>2724.000000 </td><td>2629.000000 </td><td> 0.8944585  </td><td>-0.004255814</td><td>10.421421184</td></tr>\n",
       "\t<tr><th scope=row>passen</th><td>3           </td><td>3447        </td><td>625.4615608 </td><td>799.6759001 </td><td>350.000000  </td><td>454.9612178 </td><td>250.5594000 </td><td> 4.000000   </td><td>7637.000000 </td><td>7633.000000 </td><td> 4.0591270  </td><td>22.585403373</td><td>13.620509897</td></tr>\n",
       "\t<tr><th scope=row>mktshr</th><td>4           </td><td>3447        </td><td>  0.6129625 </td><td>  0.1961852 </td><td>  0.608600  </td><td>  0.6111361 </td><td>  0.2142357 </td><td> 0.160500   </td><td>   1.000000 </td><td>   0.839500 </td><td> 0.0647639  </td><td>-0.813012406</td><td> 0.003341532</td></tr>\n",
       "\t<tr><th scope=row>y97</th><td>5           </td><td>3447        </td><td>  0.3333333 </td><td>  0.4714729 </td><td>  0.000000  </td><td>  0.2917724 </td><td>  0.0000000 </td><td> 0.000000   </td><td>   1.000000 </td><td>   1.000000 </td><td> 0.7067991  </td><td>-1.500870196</td><td> 0.008030380</td></tr>\n",
       "\t<tr><th scope=row>y99</th><td>6           </td><td>3447        </td><td>  0.3333333 </td><td>  0.4714729 </td><td>  0.000000  </td><td>  0.2917724 </td><td>  0.0000000 </td><td> 0.000000   </td><td>   1.000000 </td><td>   1.000000 </td><td> 0.7067991  </td><td>-1.500870196</td><td> 0.008030380</td></tr>\n",
       "</tbody>\n",
       "</table>\n"
      ],
      "text/latex": [
       "\\begin{tabular}{r|lllllllllllll}\n",
       "  & vars & n & mean & sd & median & trimmed & mad & min & max & range & skew & kurtosis & se\\\\\n",
       "\\hline\n",
       "\tlfare & 1            & 3447         &   5.0765730  &   0.4410853  &   5.105946   &   5.0943686  &   0.4598357  &  3.610918    &    6.198479  &    2.587561  & -0.3079329   & -0.439501661 &  0.007512802\\\\\n",
       "\tdist & 2            & 3447         & 989.7449956  & 611.8536992  & 861.000000   & 919.5900689  & 558.9402000  & 95.000000    & 2724.000000  & 2629.000000  &  0.8944585   & -0.004255814 & 10.421421184\\\\\n",
       "\tpassen & 3            & 3447         & 625.4615608  & 799.6759001  & 350.000000   & 454.9612178  & 250.5594000  &  4.000000    & 7637.000000  & 7633.000000  &  4.0591270   & 22.585403373 & 13.620509897\\\\\n",
       "\tmktshr & 4            & 3447         &   0.6129625  &   0.1961852  &   0.608600   &   0.6111361  &   0.2142357  &  0.160500    &    1.000000  &    0.839500  &  0.0647639   & -0.813012406 &  0.003341532\\\\\n",
       "\ty97 & 5            & 3447         &   0.3333333  &   0.4714729  &   0.000000   &   0.2917724  &   0.0000000  &  0.000000    &    1.000000  &    1.000000  &  0.7067991   & -1.500870196 &  0.008030380\\\\\n",
       "\ty99 & 6            & 3447         &   0.3333333  &   0.4714729  &   0.000000   &   0.2917724  &   0.0000000  &  0.000000    &    1.000000  &    1.000000  &  0.7067991   & -1.500870196 &  0.008030380\\\\\n",
       "\\end{tabular}\n"
      ],
      "text/markdown": [
       "\n",
       "| <!--/--> | vars | n | mean | sd | median | trimmed | mad | min | max | range | skew | kurtosis | se |\n",
       "|---|---|---|---|---|---|---|---|---|---|---|---|---|---|\n",
       "| lfare | 1            | 3447         |   5.0765730  |   0.4410853  |   5.105946   |   5.0943686  |   0.4598357  |  3.610918    |    6.198479  |    2.587561  | -0.3079329   | -0.439501661 |  0.007512802 |\n",
       "| dist | 2            | 3447         | 989.7449956  | 611.8536992  | 861.000000   | 919.5900689  | 558.9402000  | 95.000000    | 2724.000000  | 2629.000000  |  0.8944585   | -0.004255814 | 10.421421184 |\n",
       "| passen | 3            | 3447         | 625.4615608  | 799.6759001  | 350.000000   | 454.9612178  | 250.5594000  |  4.000000    | 7637.000000  | 7633.000000  |  4.0591270   | 22.585403373 | 13.620509897 |\n",
       "| mktshr | 4            | 3447         |   0.6129625  |   0.1961852  |   0.608600   |   0.6111361  |   0.2142357  |  0.160500    |    1.000000  |    0.839500  |  0.0647639   | -0.813012406 |  0.003341532 |\n",
       "| y97 | 5            | 3447         |   0.3333333  |   0.4714729  |   0.000000   |   0.2917724  |   0.0000000  |  0.000000    |    1.000000  |    1.000000  |  0.7067991   | -1.500870196 |  0.008030380 |\n",
       "| y99 | 6            | 3447         |   0.3333333  |   0.4714729  |   0.000000   |   0.2917724  |   0.0000000  |  0.000000    |    1.000000  |    1.000000  |  0.7067991   | -1.500870196 |  0.008030380 |\n",
       "\n"
      ],
      "text/plain": [
       "       vars n    mean        sd          median     trimmed     mad        \n",
       "lfare  1    3447   5.0765730   0.4410853   5.105946   5.0943686   0.4598357\n",
       "dist   2    3447 989.7449956 611.8536992 861.000000 919.5900689 558.9402000\n",
       "passen 3    3447 625.4615608 799.6759001 350.000000 454.9612178 250.5594000\n",
       "mktshr 4    3447   0.6129625   0.1961852   0.608600   0.6111361   0.2142357\n",
       "y97    5    3447   0.3333333   0.4714729   0.000000   0.2917724   0.0000000\n",
       "y99    6    3447   0.3333333   0.4714729   0.000000   0.2917724   0.0000000\n",
       "       min       max         range       skew       kurtosis     se          \n",
       "lfare   3.610918    6.198479    2.587561 -0.3079329 -0.439501661  0.007512802\n",
       "dist   95.000000 2724.000000 2629.000000  0.8944585 -0.004255814 10.421421184\n",
       "passen  4.000000 7637.000000 7633.000000  4.0591270 22.585403373 13.620509897\n",
       "mktshr  0.160500    1.000000    0.839500  0.0647639 -0.813012406  0.003341532\n",
       "y97     0.000000    1.000000    1.000000  0.7067991 -1.500870196  0.008030380\n",
       "y99     0.000000    1.000000    1.000000  0.7067991 -1.500870196  0.008030380"
      ]
     },
     "metadata": {},
     "output_type": "display_data"
    }
   ],
   "source": [
    "############## Deskriptive Statistiken ##############\n",
    "\n",
    "library(psych) # load package\n",
    "describe(data)\n",
    "\n",
    "######################################################"
   ]
  },
  {
   "cell_type": "markdown",
   "metadata": {},
   "source": [
    "# Konvergenzrate"
   ]
  },
  {
   "cell_type": "markdown",
   "metadata": {},
   "source": [
    "Sie nehmen eine 50% Unterstichprobe der Daten. Sie untersuchen den Einfluss des MArktanteils auf die Flugpreise. Dazu schätzen sie das einfache Regressionsmodell\n",
    "\\begin{equation*}\n",
    "lfare = \\beta_0 + \\beta_1 mktshr + v\n",
    "\\end{equation*}\n",
    "in der Unterstichprobe und in der geasamten Stichprobe. Überprüfen Sie die die Konvergenzrate der Standardfehler wenn die Stichprobengrösse verdoppelt wird."
   ]
  },
  {
   "cell_type": "code",
   "execution_count": 5,
   "metadata": {},
   "outputs": [
    {
     "data": {
      "text/plain": [
       "\n",
       "Call:\n",
       "lm(formula = lfare ~ mktshr, data = subsample)\n",
       "\n",
       "Residuals:\n",
       "     Min       1Q   Median       3Q      Max \n",
       "-1.20407 -0.28465 -0.00114  0.33924  1.17337 \n",
       "\n",
       "Coefficients:\n",
       "            Estimate Std. Error t value Pr(>|t|)    \n",
       "(Intercept)  5.38754    0.03480   154.8   <2e-16 ***\n",
       "mktshr      -0.50373    0.05359    -9.4   <2e-16 ***\n",
       "---\n",
       "Signif. codes:  0 '***' 0.001 '**' 0.01 '*' 0.05 '.' 0.1 ' ' 1\n",
       "\n",
       "Residual standard error: 0.435 on 1721 degrees of freedom\n",
       "Multiple R-squared:  0.04884,\tAdjusted R-squared:  0.04828 \n",
       "F-statistic: 88.36 on 1 and 1721 DF,  p-value: < 2.2e-16\n"
      ]
     },
     "metadata": {},
     "output_type": "display_data"
    },
    {
     "data": {
      "text/plain": [
       "\n",
       "Call:\n",
       "lm(formula = lfare ~ mktshr, data = data)\n",
       "\n",
       "Residuals:\n",
       "    Min      1Q  Median      3Q     Max \n",
       "-1.2749 -0.2822  0.0045  0.3340  1.1744 \n",
       "\n",
       "Coefficients:\n",
       "            Estimate Std. Error t value Pr(>|t|)    \n",
       "(Intercept)  5.37866    0.02405  223.61   <2e-16 ***\n",
       "mktshr      -0.49283    0.03737  -13.19   <2e-16 ***\n",
       "---\n",
       "Signif. codes:  0 '***' 0.001 '**' 0.01 '*' 0.05 '.' 0.1 ' ' 1\n",
       "\n",
       "Residual standard error: 0.4304 on 3445 degrees of freedom\n",
       "Multiple R-squared:  0.04805,\tAdjusted R-squared:  0.04777 \n",
       "F-statistic: 173.9 on 1 and 3445 DF,  p-value: < 2.2e-16\n"
      ]
     },
     "metadata": {},
     "output_type": "display_data"
    },
    {
     "name": "stdout",
     "output_type": "stream",
     "text": [
      "[1] \"Theoretische Konvergenzrate: 0.707\"\n",
      "[1] \"Tatsächliche Konvergenzrate: 0.6974\"\n"
     ]
    }
   ],
   "source": [
    "############## Konvergenzrate ##############\n",
    "\n",
    "library(reshape2)\n",
    "\n",
    "# 50% Unterstichprobe\n",
    "subsample <- modelr::resample_partition(data, c(A = 0.5, B = 0.5))\n",
    "subsample <- as.data.frame(subsample$A)\n",
    "\n",
    "# Einfaches OLS Modell in der Unterstichprobe\n",
    "sub <- lm(lfare ~ mktshr  , subsample)\n",
    "summary(sub)\n",
    "\n",
    "# Einfaches OLS Modell in der gesamten Stichprobe\n",
    "full <- lm(lfare ~ mktshr  , data)\n",
    "summary(full)\n",
    "\n",
    "# Konvergenzrate\n",
    "print(paste0(\"Theoretische Konvergenzrate: \", \n",
    "             round(sqrt(nrow(subsample)/nrow(data)), digits = 4)))\n",
    "print(paste0(\"Tatsächliche Konvergenzrate: \", \n",
    "             round(summary(full)$coefficients[2,2]/summary(sub)$coefficients[2,2], digits = 4)))\n",
    "\n",
    "##############################################"
   ]
  },
  {
   "cell_type": "markdown",
   "metadata": {},
   "source": [
    "# Lagrange Multiplier Test"
   ]
  },
  {
   "cell_type": "markdown",
   "metadata": {},
   "source": [
    "Als nächstes verwenden Sie ein multivariates Regressionsmodell. Sie sind sich allerdings unschlüssig ob Sie das restringierte Modell,\n",
    "\\begin{equation*}\n",
    "lfare = \\ beta_0 + \\beta_1 \\cdot mktshr + \\beta_2 \\cdot dist + \\beta_3 \\cdot passen + u,\n",
    "\\end{equation*}\n",
    "oder das unrestingierte Modell,\n",
    "\\begin{equation*}\n",
    "lfare = \\beta_0 + \\beta_1 \\cdot mktshr + \\beta_2 \\cdot dist + \\beta_3 \\cdot passen + \\beta_4 \\cdot y97+ \\beta_5 \\cdot y99 + u,\n",
    "\\end{equation*}\n",
    "zur Schätzung des Flugpreises verwenden sollen. Sie entscheiden sich die Nullhypothese\n",
    "\\begin{equation*}\n",
    "H_0: \\beta_4 =0,  \\beta_5 =0,\n",
    "\\end{equation*}\n",
    "mit Hilfe eines LM-Test zu überprüfen."
   ]
  },
  {
   "cell_type": "markdown",
   "metadata": {},
   "source": [
    "## Unrestringiertes Modell"
   ]
  },
  {
   "cell_type": "code",
   "execution_count": 48,
   "metadata": {},
   "outputs": [
    {
     "data": {
      "text/plain": [
       "\n",
       "Call:\n",
       "lm(formula = lfare ~ mktshr + dist + passen + y97 + y99, data = data)\n",
       "\n",
       "Residuals:\n",
       "     Min       1Q   Median       3Q      Max \n",
       "-1.33078 -0.24580 -0.02086  0.24305  0.98132 \n",
       "\n",
       "Coefficients:\n",
       "              Estimate Std. Error t value Pr(>|t|)    \n",
       "(Intercept)  4.453e+00  3.222e-02 138.202   <2e-16 ***\n",
       "mktshr       2.959e-01  3.520e-02   8.406   <2e-16 ***\n",
       "dist         4.869e-04  1.130e-05  43.075   <2e-16 ***\n",
       "passen      -6.162e-05  7.351e-06  -8.384   <2e-16 ***\n",
       "y97         -2.271e-02  1.415e-02  -1.606    0.108    \n",
       "y99          1.814e-02  1.416e-02   1.282    0.200    \n",
       "---\n",
       "Signif. codes:  0 '***' 0.001 '**' 0.01 '*' 0.05 '.' 0.1 ' ' 1\n",
       "\n",
       "Residual standard error: 0.339 on 3441 degrees of freedom\n",
       "Multiple R-squared:  0.4103,\tAdjusted R-squared:  0.4094 \n",
       "F-statistic: 478.8 on 5 and 3441 DF,  p-value: < 2.2e-16\n"
      ]
     },
     "metadata": {},
     "output_type": "display_data"
    }
   ],
   "source": [
    "############## Unrestringiertes Modell ##############\n",
    "\n",
    "unrest_model <- lm(lfare ~ mktshr + dist + passen + y97 + y99 , data)\n",
    "summary(unrest_model)\n",
    "\n",
    "#####################################################"
   ]
  },
  {
   "cell_type": "markdown",
   "metadata": {},
   "source": [
    "## Restringiertes Modell"
   ]
  },
  {
   "cell_type": "code",
   "execution_count": 49,
   "metadata": {
    "scrolled": true
   },
   "outputs": [
    {
     "data": {
      "text/plain": [
       "\n",
       "Call:\n",
       "lm(formula = lfare ~ mktshr + dist + passen, data = data)\n",
       "\n",
       "Residuals:\n",
       "     Min       1Q   Median       3Q      Max \n",
       "-1.35132 -0.24433 -0.01896  0.24259  0.95611 \n",
       "\n",
       "Coefficients:\n",
       "              Estimate Std. Error t value Pr(>|t|)    \n",
       "(Intercept)  4.452e+00  3.093e-02 143.962   <2e-16 ***\n",
       "mktshr       2.946e-01  3.520e-02   8.370   <2e-16 ***\n",
       "dist         4.868e-04  1.131e-05  43.032   <2e-16 ***\n",
       "passen      -6.106e-05  7.355e-06  -8.303   <2e-16 ***\n",
       "---\n",
       "Signif. codes:  0 '***' 0.001 '**' 0.01 '*' 0.05 '.' 0.1 ' ' 1\n",
       "\n",
       "Residual standard error: 0.3393 on 3443 degrees of freedom\n",
       "Multiple R-squared:  0.4089,\tAdjusted R-squared:  0.4083 \n",
       "F-statistic: 793.8 on 3 and 3443 DF,  p-value: < 2.2e-16\n"
      ]
     },
     "metadata": {},
     "output_type": "display_data"
    }
   ],
   "source": [
    "############## Restringiertes Modell ##############\n",
    "\n",
    "rest_model <- lm(lfare ~ mktshr + dist + passen , data)\n",
    "summary(rest_model)\n",
    "\n",
    "u_hat <- rest_model$residuals\n",
    "\n",
    "###################################################"
   ]
  },
  {
   "cell_type": "markdown",
   "metadata": {},
   "source": [
    "## Hilfsregression"
   ]
  },
  {
   "cell_type": "code",
   "execution_count": 50,
   "metadata": {},
   "outputs": [
    {
     "data": {
      "text/plain": [
       "\n",
       "Call:\n",
       "lm(formula = u_hat ~ mktshr + dist + passen + y97 + y99, data = data)\n",
       "\n",
       "Residuals:\n",
       "     Min       1Q   Median       3Q      Max \n",
       "-1.33078 -0.24580 -0.02086  0.24305  0.98132 \n",
       "\n",
       "Coefficients:\n",
       "              Estimate Std. Error t value Pr(>|t|)\n",
       "(Intercept)  9.797e-04  3.222e-02   0.030    0.976\n",
       "mktshr       1.239e-03  3.520e-02   0.035    0.972\n",
       "dist         1.364e-07  1.130e-05   0.012    0.990\n",
       "passen      -5.614e-07  7.351e-06  -0.076    0.939\n",
       "y97         -2.271e-02  1.415e-02  -1.606    0.108\n",
       "y99          1.814e-02  1.416e-02   1.282    0.200\n",
       "\n",
       "Residual standard error: 0.339 on 3441 degrees of freedom\n",
       "Multiple R-squared:  0.002427,\tAdjusted R-squared:  0.0009778 \n",
       "F-statistic: 1.675 on 5 and 3441 DF,  p-value: 0.1372\n"
      ]
     },
     "metadata": {},
     "output_type": "display_data"
    }
   ],
   "source": [
    "############## Hilfregression ##############\n",
    "\n",
    "auxiliary <- lm(u_hat ~ mktshr + dist + passen + y97 + y99 , data)\n",
    "summary(auxiliary)\n",
    "\n",
    "############################################"
   ]
  },
  {
   "cell_type": "markdown",
   "metadata": {},
   "source": [
    "## Teststatistik"
   ]
  },
  {
   "cell_type": "code",
   "execution_count": 52,
   "metadata": {},
   "outputs": [
    {
     "name": "stdout",
     "output_type": "stream",
     "text": [
      "[1] \"R-quadrat: 0.0024\"\n",
      "[1] \"LM Teststatistik: 8.3672\"\n"
     ]
    }
   ],
   "source": [
    "############## LM Teststatistik ##############\n",
    "\n",
    "print(paste0(\"R-quadrat: \", round(summary(auxiliary)$r.squared, digits = 4)))\n",
    "\n",
    "LM = nrow(data)*summary(auxiliary)$r.squared\n",
    "print(paste0(\"LM Teststatistik: \", round(LM, digits = 4)))\n",
    "\n",
    "##############################################"
   ]
  },
  {
   "cell_type": "markdown",
   "metadata": {},
   "source": [
    "## Kritischer Wert aus der Chi-Quadrat Verteilung"
   ]
  },
  {
   "cell_type": "code",
   "execution_count": 56,
   "metadata": {},
   "outputs": [
    {
     "name": "stdout",
     "output_type": "stream",
     "text": [
      "[1] \"Kritischer Wert: 5.9915\"\n",
      "[1] \"P-Wert: 0.01524\"\n"
     ]
    }
   ],
   "source": [
    "############## Kritischer Wert ##############\n",
    "\n",
    "# 95% Quantil der Chi-Quadrat Verteilung\n",
    "print(paste0(\"Kritischer Wert: \", round(qchisq(.95, df=2), digits = 4))) \n",
    "\n",
    "# P-Wert (Wahrscheinlichkeit der Nullhypothese)\n",
    "print(paste0(\"P-Wert: \", round(1-pchisq(LM, df=2), digits = 5)))\n",
    "\n",
    "\n",
    "##############################################"
   ]
  },
  {
   "cell_type": "markdown",
   "metadata": {},
   "source": [
    "# F-test"
   ]
  },
  {
   "cell_type": "markdown",
   "metadata": {},
   "source": [
    "Zum Vergleich führen Sie einen zusätzlichen F-test durch um die gleiche Nullhypothese zu überprüfen."
   ]
  },
  {
   "cell_type": "code",
   "execution_count": 43,
   "metadata": {},
   "outputs": [
    {
     "data": {
      "text/html": [
       "<table>\n",
       "<thead><tr><th scope=col>Res.Df</th><th scope=col>RSS</th><th scope=col>Df</th><th scope=col>Sum of Sq</th><th scope=col>F</th><th scope=col>Pr(&gt;F)</th></tr></thead>\n",
       "<tbody>\n",
       "\t<tr><td>3441      </td><td>395.3657  </td><td>NA        </td><td>        NA</td><td>      NA  </td><td>        NA</td></tr>\n",
       "\t<tr><td>3443      </td><td>396.3278  </td><td>-2        </td><td>-0.9620412</td><td>4.186483  </td><td>0.01527714</td></tr>\n",
       "</tbody>\n",
       "</table>\n"
      ],
      "text/latex": [
       "\\begin{tabular}{r|llllll}\n",
       " Res.Df & RSS & Df & Sum of Sq & F & Pr(>F)\\\\\n",
       "\\hline\n",
       "\t 3441       & 395.3657   & NA         &         NA &       NA   &         NA\\\\\n",
       "\t 3443       & 396.3278   & -2         & -0.9620412 & 4.186483   & 0.01527714\\\\\n",
       "\\end{tabular}\n"
      ],
      "text/markdown": [
       "\n",
       "| Res.Df | RSS | Df | Sum of Sq | F | Pr(>F) |\n",
       "|---|---|---|---|---|---|\n",
       "| 3441       | 395.3657   | NA         |         NA |       NA   |         NA |\n",
       "| 3443       | 396.3278   | -2         | -0.9620412 | 4.186483   | 0.01527714 |\n",
       "\n"
      ],
      "text/plain": [
       "  Res.Df RSS      Df Sum of Sq  F        Pr(>F)    \n",
       "1 3441   395.3657 NA         NA       NA         NA\n",
       "2 3443   396.3278 -2 -0.9620412 4.186483 0.01527714"
      ]
     },
     "metadata": {},
     "output_type": "display_data"
    }
   ],
   "source": [
    "############## F-test ##############\n",
    "\n",
    "anova(unrest_model, rest_model)\n",
    "\n",
    "####################################"
   ]
  }
 ],
 "metadata": {
  "kernelspec": {
   "display_name": "R",
   "language": "R",
   "name": "ir"
  },
  "language_info": {
   "codemirror_mode": "r",
   "file_extension": ".r",
   "mimetype": "text/x-r-source",
   "name": "R",
   "pygments_lexer": "r",
   "version": "3.4.1"
  }
 },
 "nbformat": 4,
 "nbformat_minor": 2
}
