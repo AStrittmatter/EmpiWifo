{
 "cells": [
  {
   "cell_type": "markdown",
   "metadata": {},
   "source": [
    "# **Empirische Wirtschaftsforschung**"
   ]
  },
  {
   "cell_type": "markdown",
   "metadata": {},
   "source": [
    "# Anwendungsbeispiel Gebrauchtwagen"
   ]
  },
  {
   "cell_type": "markdown",
   "metadata": {},
   "source": [
    "**Author:** [Anthony Strittmatter](http://www.anthonystrittmatter.com)"
   ]
  },
  {
   "cell_type": "markdown",
   "metadata": {},
   "source": [
    "Sie wollen den Zusammenhang zwischen Tachostand und Gebrauchtwagenpreisen untersuchen. Ihnen steht ein Datensatz mit 23,282 gebrauchten VW Golfs zur Verfügung. Alle Gebrauchtwagen haben einen Tachostand von mindestens 10,000 km und maximal 200,000 km.\n",
    "\n",
    "**Variablenbeschreibung:**\n",
    "- *final_price*: Transaktionspreis (in 1,000 Euro)\n",
    "- *mileage*: Tachostand  (in 1,000 km)\n"
   ]
  },
  {
   "cell_type": "markdown",
   "metadata": {},
   "source": [
    "## Laden der Daten"
   ]
  },
  {
   "cell_type": "code",
   "execution_count": 38,
   "metadata": {},
   "outputs": [
    {
     "name": "stdout",
     "output_type": "stream",
     "text": [
      "[1] \"Data is loaded.\"\n"
     ]
    }
   ],
   "source": [
    "############## Laden der Daten ##############\n",
    "\n",
    "data <- read.csv(\"used_cars.csv\",header=TRUE, sep=\",\")\n",
    "data_old <- read.csv(\"used_cars.csv\",header=TRUE, sep=\",\")\n",
    "\n",
    "print('Data is loaded.')\n",
    "\n",
    "##############################################"
   ]
  },
  {
   "cell_type": "markdown",
   "metadata": {},
   "source": [
    "# Deskriptive Statistiken"
   ]
  },
  {
   "cell_type": "markdown",
   "metadata": {},
   "source": [
    "Zunächst überprüfen Sie ob der Datensatz vollständig ist und ob es irgendwelche Auffälligkeiten in den Daten gibt."
   ]
  },
  {
   "cell_type": "code",
   "execution_count": 39,
   "metadata": {},
   "outputs": [
    {
     "data": {
      "text/html": [
       "<table>\n",
       "<thead><tr><th></th><th scope=col>vars</th><th scope=col>n</th><th scope=col>mean</th><th scope=col>sd</th><th scope=col>median</th><th scope=col>trimmed</th><th scope=col>mad</th><th scope=col>min</th><th scope=col>max</th><th scope=col>range</th><th scope=col>skew</th><th scope=col>kurtosis</th><th scope=col>se</th></tr></thead>\n",
       "<tbody>\n",
       "\t<tr><th scope=row>final_price</th><td>1         </td><td>23282     </td><td>13.16673  </td><td> 4.512105 </td><td>12.56     </td><td>12.90325  </td><td> 4.29954  </td><td> 1        </td><td> 57.19    </td><td> 56.19    </td><td>0.6541416 </td><td> 0.8838048</td><td>0.02957121</td></tr>\n",
       "\t<tr><th scope=row>mileage</th><td>2         </td><td>23282     </td><td>84.79639  </td><td>49.630311 </td><td>81.09     </td><td>82.16562  </td><td>61.06681  </td><td>10        </td><td>200.00    </td><td>190.00    </td><td>0.3231626 </td><td>-0.8938274</td><td>0.32526464</td></tr>\n",
       "</tbody>\n",
       "</table>\n"
      ],
      "text/latex": [
       "\\begin{tabular}{r|lllllllllllll}\n",
       "  & vars & n & mean & sd & median & trimmed & mad & min & max & range & skew & kurtosis & se\\\\\n",
       "\\hline\n",
       "\tfinal\\_price & 1          & 23282      & 13.16673   &  4.512105  & 12.56      & 12.90325   &  4.29954   &  1         &  57.19     &  56.19     & 0.6541416  &  0.8838048 & 0.02957121\\\\\n",
       "\tmileage & 2          & 23282      & 84.79639   & 49.630311  & 81.09      & 82.16562   & 61.06681   & 10         & 200.00     & 190.00     & 0.3231626  & -0.8938274 & 0.32526464\\\\\n",
       "\\end{tabular}\n"
      ],
      "text/markdown": [
       "\n",
       "| <!--/--> | vars | n | mean | sd | median | trimmed | mad | min | max | range | skew | kurtosis | se |\n",
       "|---|---|---|---|---|---|---|---|---|---|---|---|---|---|\n",
       "| final_price | 1          | 23282      | 13.16673   |  4.512105  | 12.56      | 12.90325   |  4.29954   |  1         |  57.19     |  56.19     | 0.6541416  |  0.8838048 | 0.02957121 |\n",
       "| mileage | 2          | 23282      | 84.79639   | 49.630311  | 81.09      | 82.16562   | 61.06681   | 10         | 200.00     | 190.00     | 0.3231626  | -0.8938274 | 0.32526464 |\n",
       "\n"
      ],
      "text/plain": [
       "            vars n     mean     sd        median trimmed  mad      min max   \n",
       "final_price 1    23282 13.16673  4.512105 12.56  12.90325  4.29954  1   57.19\n",
       "mileage     2    23282 84.79639 49.630311 81.09  82.16562 61.06681 10  200.00\n",
       "            range  skew      kurtosis   se        \n",
       "final_price  56.19 0.6541416  0.8838048 0.02957121\n",
       "mileage     190.00 0.3231626 -0.8938274 0.32526464"
      ]
     },
     "metadata": {},
     "output_type": "display_data"
    }
   ],
   "source": [
    "############## Deskriptive Statistiken ##############\n",
    "\n",
    "library(psych) # load package\n",
    "describe(data)\n",
    "\n",
    "######################################################"
   ]
  },
  {
   "cell_type": "markdown",
   "metadata": {},
   "source": [
    "# Lineare Transformation der Ergebnisvariable"
   ]
  },
  {
   "cell_type": "markdown",
   "metadata": {},
   "source": [
    "Sie regressiren das einfache Modell\n",
    "\\begin{equation*}\n",
    "final\\_price = \\beta_0 + \\beta_1 milage + v.\n",
    "\\end{equation*}\n",
    "Sie berechnen das Preismodell in Euro und CHF.\n",
    "\n",
    "1. Wie verändern sich die Koeffizienten?\n",
    "2. Wie verändern sich die Standardfehler?\n",
    "3. Wie verändern sich die Werte der t-Statistik?"
   ]
  },
  {
   "cell_type": "code",
   "execution_count": 40,
   "metadata": {},
   "outputs": [
    {
     "data": {
      "text/plain": [
       "\n",
       "Call:\n",
       "lm(formula = final_price ~ mileage, data = data)\n",
       "\n",
       "Residuals:\n",
       "    Min      1Q  Median      3Q     Max \n",
       "-12.195  -1.881  -0.117   1.705  42.164 \n",
       "\n",
       "Coefficients:\n",
       "              Estimate Std. Error t value Pr(>|t|)    \n",
       "(Intercept) 19.0291602  0.0380186   500.5   <2e-16 ***\n",
       "mileage     -0.0691354  0.0003869  -178.7   <2e-16 ***\n",
       "---\n",
       "Signif. codes:  0 '***' 0.001 '**' 0.01 '*' 0.05 '.' 0.1 ' ' 1\n",
       "\n",
       "Residual standard error: 2.93 on 23280 degrees of freedom\n",
       "Multiple R-squared:  0.5783,\tAdjusted R-squared:  0.5783 \n",
       "F-statistic: 3.192e+04 on 1 and 23280 DF,  p-value: < 2.2e-16\n"
      ]
     },
     "metadata": {},
     "output_type": "display_data"
    },
    {
     "data": {
      "text/plain": [
       "\n",
       "Call:\n",
       "lm(formula = final_price ~ mileage, data = data)\n",
       "\n",
       "Residuals:\n",
       "    Min      1Q  Median      3Q     Max \n",
       "-13.780  -2.126  -0.132   1.926  47.645 \n",
       "\n",
       "Coefficients:\n",
       "              Estimate Std. Error t value Pr(>|t|)    \n",
       "(Intercept) 21.5031413  0.0429614   500.5   <2e-16 ***\n",
       "mileage     -0.0781237  0.0004373  -178.7   <2e-16 ***\n",
       "---\n",
       "Signif. codes:  0 '***' 0.001 '**' 0.01 '*' 0.05 '.' 0.1 ' ' 1\n",
       "\n",
       "Residual standard error: 3.311 on 23280 degrees of freedom\n",
       "Multiple R-squared:  0.5783,\tAdjusted R-squared:  0.5783 \n",
       "F-statistic: 3.192e+04 on 1 and 23280 DF,  p-value: < 2.2e-16\n"
      ]
     },
     "metadata": {},
     "output_type": "display_data"
    },
    {
     "name": "stdout",
     "output_type": "stream",
     "text": [
      "[1] 21.50314\n",
      "[1] -0.07812372\n",
      "[1] 0.04296138\n",
      "[1] 0.0004372563\n"
     ]
    }
   ],
   "source": [
    "############## Lineare Transformation der Ergebnisvariable ##############\n",
    "\n",
    "# Wechselkurs\n",
    "c <- 1.13001 # CHF/Euro\n",
    "\n",
    "# Regressionmodell in Euro\n",
    "euro <- lm(final_price ~ mileage, data)\n",
    "summary(euro)\n",
    "\n",
    "# Tranformation des Autopreises\n",
    "data$final_price <- data$final_price*c\n",
    "\n",
    "# Regressionmodell in Euro\n",
    "chf <- lm(final_price ~ mileage, data)\n",
    "summary(chf)\n",
    "\n",
    "# Koeffizienten\n",
    "print(summary(euro)$coefficients[1,1]*c)\n",
    "print(summary(euro)$coefficients[2,1]*c)\n",
    "\n",
    "# Standardfehler\n",
    "print(summary(euro)$coefficients[1,2]*c)\n",
    "print(summary(euro)$coefficients[2,2]*c)\n",
    "\n",
    "###########################################################################"
   ]
  },
  {
   "cell_type": "markdown",
   "metadata": {},
   "source": [
    "# Linare Transformation der unabhängigen Variable"
   ]
  },
  {
   "cell_type": "markdown",
   "metadata": {},
   "source": [
    "Sie schätzen das gleiche Modell wie oben in CHF. Nun transformieren sie den Tachostand. Sie berechnen die Veränderung des Gebruachtwagenpreises pro 1,000km und pro 1 km.\n",
    "\n",
    "1. Wie verändert sich die Konstante?\n",
    "2. Wie verändert sich der Koeffizient des Tachostandes?\n",
    "2. Wie verändern sich die Standardfehler des Tachostandes?\n",
    "3. Wie verändert sich der t-Statistik des Tachostandes?"
   ]
  },
  {
   "cell_type": "code",
   "execution_count": 41,
   "metadata": {},
   "outputs": [
    {
     "data": {
      "text/plain": [
       "\n",
       "Call:\n",
       "lm(formula = final_price ~ mileage, data = data)\n",
       "\n",
       "Residuals:\n",
       "    Min      1Q  Median      3Q     Max \n",
       "-13.780  -2.126  -0.132   1.926  47.645 \n",
       "\n",
       "Coefficients:\n",
       "              Estimate Std. Error t value Pr(>|t|)    \n",
       "(Intercept)  2.150e+01  4.296e-02   500.5   <2e-16 ***\n",
       "mileage     -7.812e-05  4.373e-07  -178.7   <2e-16 ***\n",
       "---\n",
       "Signif. codes:  0 '***' 0.001 '**' 0.01 '*' 0.05 '.' 0.1 ' ' 1\n",
       "\n",
       "Residual standard error: 3.311 on 23280 degrees of freedom\n",
       "Multiple R-squared:  0.5783,\tAdjusted R-squared:  0.5783 \n",
       "F-statistic: 3.192e+04 on 1 and 23280 DF,  p-value: < 2.2e-16\n"
      ]
     },
     "metadata": {},
     "output_type": "display_data"
    },
    {
     "name": "stdout",
     "output_type": "stream",
     "text": [
      "[1] -7.812372e-05\n",
      "[1] 4.372563e-07\n"
     ]
    }
   ],
   "source": [
    "############## Lineare Transformation der unabhängigen Variable ##############\n",
    "\n",
    "# Transformation 1000km\n",
    "c <- 1000\n",
    "\n",
    "# Tranformation des Tachostandes\n",
    "data$mileage <- data$mileage*c\n",
    "\n",
    "# Regressionmodell in km\n",
    "km <- lm(final_price ~ mileage, data)\n",
    "summary(km)\n",
    "\n",
    "# Koeffizienten\n",
    "print(summary(chf)$coefficients[2,1]/c)\n",
    "\n",
    "# Standardfehler\n",
    "print(summary(chf)$coefficients[2,2]/c)\n",
    "\n",
    "\n",
    "##################################################################################"
   ]
  },
  {
   "cell_type": "markdown",
   "metadata": {},
   "source": [
    "Wie hoch ist der geschätzte Preis eines VWs mit 10,000 km Tachostand? Wie verändert sich der Preis wenn der Tachostand um 100 km (1%) steigt? Wie gross ist die relative Veränderung bei 80,000 km?"
   ]
  },
  {
   "cell_type": "code",
   "execution_count": 55,
   "metadata": {},
   "outputs": [
    {
     "name": "stdout",
     "output_type": "stream",
     "text": [
      "[1] 20.7219\n",
      "[1] 20.71409\n",
      "[1] \"Prozentveränderung: -0.0377\"\n",
      "[1] 15.25324\n",
      "[1] 15.19074\n",
      "[1] \"Prozentveränderung: -0.4097\"\n"
     ]
    }
   ],
   "source": [
    "########################### Relative Preisveränderung ###################################\n",
    "\n",
    "price_10000 <- print(summary(km)$coefficients[1,1] + summary(km)$coefficients[2,1]*10000)\n",
    "price_10100 <-  print(summary(km)$coefficients[1,1] + summary(km)$coefficients[2,1]*10100)\n",
    "\n",
    "print(paste0(\"Prozentveränderung: \",round(100*(price_10100 - price_10000)/price_10000, digits = 4)))\n",
    "\n",
    "price_80000 <- print(summary(km)$coefficients[1,1] + summary(km)$coefficients[2,1]*80000)\n",
    "price_80800 <-  print(summary(km)$coefficients[1,1] + summary(km)$coefficients[2,1]*80800)\n",
    "\n",
    "print(paste0(\"Prozentveränderung: \",round(100*(price_80800 - price_80000)/price_80000, digits = 4)))\n",
    "\n",
    "#######################################################################################"
   ]
  },
  {
   "cell_type": "markdown",
   "metadata": {},
   "source": [
    "## Log Transformation"
   ]
  },
  {
   "cell_type": "markdown",
   "metadata": {},
   "source": [
    "Sie schätzen das Regressionsmodell\n",
    "\\begin{equation*}\n",
    "log(final\\_price) = \\beta_0 + \\beta_1 log(milage) + u.\n",
    "\\end{equation*}\n",
    "\n",
    "Interpretieren Sie die Ergebnisse? Wie verändern sich die t-Statistiken?"
   ]
  },
  {
   "cell_type": "code",
   "execution_count": 35,
   "metadata": {
    "scrolled": true
   },
   "outputs": [
    {
     "data": {
      "text/plain": [
       "\n",
       "Call:\n",
       "lm(formula = final_price ~ mileage, data = data)\n",
       "\n",
       "Residuals:\n",
       "    Min      1Q  Median      3Q     Max \n",
       "-2.4333 -0.1216  0.0166  0.1451  1.4739 \n",
       "\n",
       "Coefficients:\n",
       "             Estimate Std. Error t value Pr(>|t|)    \n",
       "(Intercept)  6.722061   0.023889   281.4   <2e-16 ***\n",
       "mileage     -0.367247   0.002144  -171.3   <2e-16 ***\n",
       "---\n",
       "Signif. codes:  0 '***' 0.001 '**' 0.01 '*' 0.05 '.' 0.1 ' ' 1\n",
       "\n",
       "Residual standard error: 0.2427 on 23280 degrees of freedom\n",
       "Multiple R-squared:  0.5577,\tAdjusted R-squared:  0.5577 \n",
       "F-statistic: 2.935e+04 on 1 and 23280 DF,  p-value: < 2.2e-16\n"
      ]
     },
     "metadata": {},
     "output_type": "display_data"
    }
   ],
   "source": [
    "############## Log Transformation ##############\n",
    "\n",
    "# Log-Tranformation des Preises (in CHF)\n",
    "data$final_price <- log(data$final_price)\n",
    "# Log-Tranformation des Tachostandes (in km)\n",
    "data$mileage <- log(data$mileage)\n",
    "\n",
    "# Regressionmodell in km\n",
    "km <- lm(final_price ~ mileage, data)\n",
    "summary(km)\n",
    "\n",
    "################################################"
   ]
  },
  {
   "cell_type": "markdown",
   "metadata": {},
   "source": [
    "Wiederholen Sie die log-transformation mit den Grebrauchtwagenpreisen in Euro und dem Tachostand in 1,000 km. Wie verändern sich die Ergebnisse?"
   ]
  },
  {
   "cell_type": "code",
   "execution_count": 36,
   "metadata": {},
   "outputs": [
    {
     "data": {
      "text/plain": [
       "\n",
       "Call:\n",
       "lm(formula = final_price ~ mileage, data = data_old)\n",
       "\n",
       "Residuals:\n",
       "    Min      1Q  Median      3Q     Max \n",
       "-2.4333 -0.1216  0.0166  0.1451  1.4739 \n",
       "\n",
       "Coefficients:\n",
       "             Estimate Std. Error t value Pr(>|t|)    \n",
       "(Intercept)  4.062985   0.009169   443.1   <2e-16 ***\n",
       "mileage     -0.367247   0.002144  -171.3   <2e-16 ***\n",
       "---\n",
       "Signif. codes:  0 '***' 0.001 '**' 0.01 '*' 0.05 '.' 0.1 ' ' 1\n",
       "\n",
       "Residual standard error: 0.2427 on 23280 degrees of freedom\n",
       "Multiple R-squared:  0.5577,\tAdjusted R-squared:  0.5577 \n",
       "F-statistic: 2.935e+04 on 1 and 23280 DF,  p-value: < 2.2e-16\n"
      ]
     },
     "metadata": {},
     "output_type": "display_data"
    }
   ],
   "source": [
    "############## Log Transformation ##############\n",
    "\n",
    "# Log-Tranformation des Preises (in Euro)\n",
    "data_old$final_price <- log(data_old$final_price)\n",
    "# Log-Tranformation des Tachostandes (in 1,000 km)\n",
    "data_old$mileage <- log(data_old$mileage)\n",
    "\n",
    "# Regressionmodell in km\n",
    "km <- lm(final_price ~ mileage, data_old)\n",
    "summary(km)\n",
    "\n",
    "#################################################"
   ]
  }
 ],
 "metadata": {
  "kernelspec": {
   "display_name": "R",
   "language": "R",
   "name": "ir"
  },
  "language_info": {
   "codemirror_mode": "r",
   "file_extension": ".r",
   "mimetype": "text/x-r-source",
   "name": "R",
   "pygments_lexer": "r",
   "version": "3.4.1"
  }
 },
 "nbformat": 4,
 "nbformat_minor": 2
}
